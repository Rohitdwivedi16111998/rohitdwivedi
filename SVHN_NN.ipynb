{
  "nbformat": 4,
  "nbformat_minor": 0,
  "metadata": {
    "colab": {
      "name": "Project2_Neural_Networks.ipynb",
      "provenance": [],
      "collapsed_sections": []
    },
    "kernelspec": {
      "name": "python3",
      "display_name": "Python 3"
    }
  },
  "cells": [
    {
      "cell_type": "code",
      "metadata": {
        "id": "naxWPbWRpUfn",
        "colab_type": "code",
        "colab": {}
      },
      "source": [
        "import pandas as pd\n",
        "import numpy as np\n",
        "import h5py\n",
        "import tensorflow as tf\n",
        "import matplotlib.pyplot as plt\n",
        "%matplotlib inline"
      ],
      "execution_count": 0,
      "outputs": []
    },
    {
      "cell_type": "code",
      "metadata": {
        "id": "eFKJoDwos93Y",
        "colab_type": "code",
        "colab": {
          "base_uri": "https://localhost:8080/",
          "height": 121
        },
        "outputId": "81e40f6b-c49c-4c1c-e018-df3cf92edd06"
      },
      "source": [
        "from google.colab import drive\n",
        "drive.mount(\"/content/drive\", force_remount=True)"
      ],
      "execution_count": 12,
      "outputs": [
        {
          "output_type": "stream",
          "text": [
            "Go to this URL in a browser: https://accounts.google.com/o/oauth2/auth?client_id=947318989803-6bn6qk8qdgf4n4g3pfee6491hc0brc4i.apps.googleusercontent.com&redirect_uri=urn%3aietf%3awg%3aoauth%3a2.0%3aoob&response_type=code&scope=email%20https%3a%2f%2fwww.googleapis.com%2fauth%2fdocs.test%20https%3a%2f%2fwww.googleapis.com%2fauth%2fdrive%20https%3a%2f%2fwww.googleapis.com%2fauth%2fdrive.photos.readonly%20https%3a%2f%2fwww.googleapis.com%2fauth%2fpeopleapi.readonly\n",
            "\n",
            "Enter your authorization code:\n",
            "··········\n",
            "Mounted at /content/drive\n"
          ],
          "name": "stdout"
        }
      ]
    },
    {
      "cell_type": "code",
      "metadata": {
        "id": "aAzut2LZp9P5",
        "colab_type": "code",
        "colab": {}
      },
      "source": [
        "h5f = h5py.File('/content/drive/My Drive/Neural Networks/SVHN_single_grey1.h5','r')"
      ],
      "execution_count": 0,
      "outputs": []
    },
    {
      "cell_type": "code",
      "metadata": {
        "id": "x-vXqOuotbbd",
        "colab_type": "code",
        "colab": {}
      },
      "source": [
        "X_train = h5f['X_train'][:]\n",
        "y_train = h5f['y_train'][:]\n",
        "\n",
        "X_test = h5f['X_test'][:]\n",
        "y_test = h5f['y_test'][:]\n",
        "\n"
      ],
      "execution_count": 0,
      "outputs": []
    },
    {
      "cell_type": "code",
      "metadata": {
        "id": "tURvCJC9t5IX",
        "colab_type": "code",
        "colab": {
          "base_uri": "https://localhost:8080/",
          "height": 34
        },
        "outputId": "23bd532e-70e3-4227-b6f3-3bdb6e227074"
      },
      "source": [
        "X_train.shape"
      ],
      "execution_count": 60,
      "outputs": [
        {
          "output_type": "execute_result",
          "data": {
            "text/plain": [
              "(42000, 32, 32)"
            ]
          },
          "metadata": {
            "tags": []
          },
          "execution_count": 60
        }
      ]
    },
    {
      "cell_type": "code",
      "metadata": {
        "id": "I2IhrUVT9asW",
        "colab_type": "code",
        "colab": {
          "base_uri": "https://localhost:8080/",
          "height": 283
        },
        "outputId": "c1255642-70db-4b36-e7ce-d407ffaef867"
      },
      "source": [
        "plt.imshow(X_train[1], cmap='gray')"
      ],
      "execution_count": 93,
      "outputs": [
        {
          "output_type": "execute_result",
          "data": {
            "text/plain": [
              "<matplotlib.image.AxesImage at 0x7f3eb3acafd0>"
            ]
          },
          "metadata": {
            "tags": []
          },
          "execution_count": 93
        },
        {
          "output_type": "display_data",
          "data": {
            "image/png": "[encoded data removed]",
            "text/plain": [
              "<Figure size 432x288 with 1 Axes>"
            ]
          },
          "metadata": {
            "tags": []
          }
        }
      ]
    },
    {
      "cell_type": "code",
      "metadata": {
        "id": "ixMpMlhU9mp5",
        "colab_type": "code",
        "colab": {
          "base_uri": "https://localhost:8080/",
          "height": 34
        },
        "outputId": "e5996088-d6a2-4f45-f50d-e6317e9549d1"
      },
      "source": [
        "y_train1[1]"
      ],
      "execution_count": 94,
      "outputs": [
        {
          "output_type": "execute_result",
          "data": {
            "text/plain": [
              "array([0., 0., 0., 0., 0., 0., 1., 0., 0., 0.], dtype=float32)"
            ]
          },
          "metadata": {
            "tags": []
          },
          "execution_count": 94
        }
      ]
    },
    {
      "cell_type": "code",
      "metadata": {
        "id": "psOdyRwAt7Dn",
        "colab_type": "code",
        "colab": {
          "base_uri": "https://localhost:8080/",
          "height": 34
        },
        "outputId": "81d826e0-fe09-484e-d6ae-84a76e99e39a"
      },
      "source": [
        "y_train1.shape"
      ],
      "execution_count": 61,
      "outputs": [
        {
          "output_type": "execute_result",
          "data": {
            "text/plain": [
              "(42000,)"
            ]
          },
          "metadata": {
            "tags": []
          },
          "execution_count": 61
        }
      ]
    },
    {
      "cell_type": "code",
      "metadata": {
        "id": "Nrky1-Mo5Ylu",
        "colab_type": "code",
        "colab": {}
      },
      "source": [
        "y_train1 = tf.keras.utils.to_categorical(y_train)\n",
        "y_test1 = tf.keras.utils.to_categorical(y_test)"
      ],
      "execution_count": 0,
      "outputs": []
    },
    {
      "cell_type": "code",
      "metadata": {
        "id": "bLaWih4n50fs",
        "colab_type": "code",
        "colab": {
          "base_uri": "https://localhost:8080/",
          "height": 134
        },
        "outputId": "99a6f787-b8e7-4297-9133-663bb6504a9d"
      },
      "source": [
        "y_test1"
      ],
      "execution_count": 123,
      "outputs": [
        {
          "output_type": "execute_result",
          "data": {
            "text/plain": [
              "array([[0., 1., 0., ..., 0., 0., 0.],\n",
              "       [0., 0., 0., ..., 1., 0., 0.],\n",
              "       [0., 0., 1., ..., 0., 0., 0.],\n",
              "       ...,\n",
              "       [0., 0., 0., ..., 1., 0., 0.],\n",
              "       [0., 0., 0., ..., 0., 0., 1.],\n",
              "       [0., 0., 1., ..., 0., 0., 0.]], dtype=float32)"
            ]
          },
          "metadata": {
            "tags": []
          },
          "execution_count": 123
        }
      ]
    },
    {
      "cell_type": "code",
      "metadata": {
        "id": "3dekhHexvfW6",
        "colab_type": "code",
        "colab": {}
      },
      "source": [
        "#Clear out tensorflow memory\n",
        "tf.keras.backend.clear_session()\n",
        "\n",
        "# Initialize Sequential model\n",
        "model = tf.keras.models.Sequential()\n",
        "\n",
        "# Reshape data from 2D to 1D -> 32x32 to 1024\n",
        "model.add(tf.keras.layers.Reshape((1024,),input_shape=(32,32,)))"
      ],
      "execution_count": 0,
      "outputs": []
    },
    {
      "cell_type": "code",
      "metadata": {
        "id": "CgNRL9Ccv10A",
        "colab_type": "code",
        "colab": {}
      },
      "source": [
        "#Add 1st hidden layer\n",
        "model.add(tf.keras.layers.Dense(512, activation='relu'))\n",
        "model.add(tf.keras.layers.BatchNormalization())\n",
        "#Add 2nd hidden layer\n",
        "model.add(tf.keras.layers.Dense(128, activation='relu'))\n",
        "model.add(tf.keras.layers.Dense(512, activation='relu'))\n",
        "model.add(tf.keras.layers.Dense(128, activation='relu'))\n",
        "model.add(tf.keras.layers.Dense(512, activation='relu'))\n",
        "model.add(tf.keras.layers.BatchNormalization())\n",
        "model.add(tf.keras.layers.Dense(128, activation='relu'))\n",
        "#Add 3rd hidden layer\n",
        "model.add(tf.keras.layers.BatchNormalization())\n",
        "model.add(tf.keras.layers.Dense(64, activation='relu'))\n",
        "#Adding Ouput layer\n",
        "model.add(tf.keras.layers.Dense(10, activation='softmax'))"
      ],
      "execution_count": 0,
      "outputs": []
    },
    {
      "cell_type": "code",
      "metadata": {
        "id": "PHOtnLPkwHvw",
        "colab_type": "code",
        "colab": {}
      },
      "source": [
        "# Compile the model\n",
        "model.compile(optimizer='adam', loss='categorical_crossentropy', metrics=['accuracy'])"
      ],
      "execution_count": 0,
      "outputs": []
    },
    {
      "cell_type": "code",
      "metadata": {
        "id": "YsGhf_K4wX_u",
        "colab_type": "code",
        "colab": {
          "base_uri": "https://localhost:8080/",
          "height": 924
        },
        "outputId": "93773d17-9045-4232-8028-476832cde2e7"
      },
      "source": [
        "model.summary()"
      ],
      "execution_count": 117,
      "outputs": [
        {
          "output_type": "stream",
          "text": [
            "Model: \"sequential\"\n",
            "_________________________________________________________________\n",
            "Layer (type)                 Output Shape              Param #   \n",
            "=================================================================\n",
            "reshape (Reshape)            (None, 1024)              0         \n",
            "_________________________________________________________________\n",
            "dense (Dense)                (None, 512)               524800    \n",
            "_________________________________________________________________\n",
            "batch_normalization (BatchNo (None, 512)               2048      \n",
            "_________________________________________________________________\n",
            "dense_1 (Dense)              (None, 128)               65664     \n",
            "_________________________________________________________________\n",
            "dense_2 (Dense)              (None, 512)               66048     \n",
            "_________________________________________________________________\n",
            "dense_3 (Dense)              (None, 128)               65664     \n",
            "_________________________________________________________________\n",
            "dense_4 (Dense)              (None, 512)               66048     \n",
            "_________________________________________________________________\n",
            "batch_normalization_1 (Batch (None, 512)               2048      \n",
            "_________________________________________________________________\n",
            "dense_5 (Dense)              (None, 128)               65664     \n",
            "_________________________________________________________________\n",
            "batch_normalization_2 (Batch (None, 128)               512       \n",
            "_________________________________________________________________\n",
            "dense_6 (Dense)              (None, 64)                8256      \n",
            "_________________________________________________________________\n",
            "dense_7 (Dense)              (None, 10)                650       \n",
            "_________________________________________________________________\n",
            "dense_8 (Dense)              (None, 512)               5632      \n",
            "_________________________________________________________________\n",
            "batch_normalization_3 (Batch (None, 512)               2048      \n",
            "_________________________________________________________________\n",
            "dense_9 (Dense)              (None, 128)               65664     \n",
            "_________________________________________________________________\n",
            "dense_10 (Dense)             (None, 512)               66048     \n",
            "_________________________________________________________________\n",
            "dense_11 (Dense)             (None, 128)               65664     \n",
            "_________________________________________________________________\n",
            "dense_12 (Dense)             (None, 512)               66048     \n",
            "_________________________________________________________________\n",
            "batch_normalization_4 (Batch (None, 512)               2048      \n",
            "_________________________________________________________________\n",
            "dense_13 (Dense)             (None, 128)               65664     \n",
            "_________________________________________________________________\n",
            "batch_normalization_5 (Batch (None, 128)               512       \n",
            "_________________________________________________________________\n",
            "dense_14 (Dense)             (None, 64)                8256      \n",
            "_________________________________________________________________\n",
            "dense_15 (Dense)             (None, 10)                650       \n",
            "=================================================================\n",
            "Total params: 1,215,636\n",
            "Trainable params: 1,211,028\n",
            "Non-trainable params: 4,608\n",
            "_________________________________________________________________\n"
          ],
          "name": "stdout"
        }
      ]
    },
    {
      "cell_type": "code",
      "metadata": {
        "id": "5b1wiJsm3NYq",
        "colab_type": "code",
        "colab": {
          "base_uri": "https://localhost:8080/",
          "height": 1000
        },
        "outputId": "c8fda819-6d97-439b-8c3a-85c17a2432d3"
      },
      "source": [
        "import matplotlib.pyplot as plt\n",
        "\n",
        "history = model.fit(X_train,y_train1, validation_data=(X_test,y_test1), epochs=50,\n",
        "          batch_size = 32)\n",
        "\n",
        "# Plot training & validation accuracy values\n",
        "plt.plot(history.history['accuracy'])\n",
        "plt.plot(history.history['val_accuracy'])\n",
        "plt.title('Model accuracy')\n",
        "plt.ylabel('Accuracy')\n",
        "plt.xlabel('Epoch')\n",
        "plt.legend(['Train', 'Test'], loc='upper left')\n",
        "plt.show()\n",
        "\n",
        "# Plot training & validation loss values\n",
        "plt.plot(history.history['loss'])\n",
        "plt.plot(history.history['val_loss'])\n",
        "plt.title('Model loss')\n",
        "plt.ylabel('Loss')\n",
        "plt.xlabel('Epoch')\n",
        "plt.legend(['Train', 'Test'], loc='upper left')\n",
        "plt.show()"
      ],
      "execution_count": 118,
      "outputs": [
        {
          "output_type": "stream",
          "text": [
            "Epoch 1/50\n",
            "1313/1313 [==============================] - 21s 16ms/step - loss: 0.6358 - accuracy: 0.8284 - val_loss: 0.8810 - val_accuracy: 0.7729\n",
            "Epoch 2/50\n",
            "1313/1313 [==============================] - 21s 16ms/step - loss: 0.5788 - accuracy: 0.8290 - val_loss: 0.7696 - val_accuracy: 0.7859\n",
            "Epoch 3/50\n",
            "1313/1313 [==============================] - 21s 16ms/step - loss: 0.5500 - accuracy: 0.8340 - val_loss: 0.8861 - val_accuracy: 0.7513\n",
            "Epoch 4/50\n",
            "1313/1313 [==============================] - 21s 16ms/step - loss: 0.5401 - accuracy: 0.8368 - val_loss: 0.8346 - val_accuracy: 0.7690\n",
            "Epoch 5/50\n",
            "1313/1313 [==============================] - 21s 16ms/step - loss: 0.5298 - accuracy: 0.8389 - val_loss: 0.6940 - val_accuracy: 0.8059\n",
            "Epoch 6/50\n",
            "1313/1313 [==============================] - 24s 19ms/step - loss: 0.5217 - accuracy: 0.8414 - val_loss: 0.7919 - val_accuracy: 0.7739\n",
            "Epoch 7/50\n",
            "1313/1313 [==============================] - 21s 16ms/step - loss: 0.5110 - accuracy: 0.8434 - val_loss: 0.8095 - val_accuracy: 0.7669\n",
            "Epoch 8/50\n",
            "1313/1313 [==============================] - 22s 16ms/step - loss: 0.5070 - accuracy: 0.8441 - val_loss: 0.7895 - val_accuracy: 0.7724\n",
            "Epoch 9/50\n",
            "1313/1313 [==============================] - 21s 16ms/step - loss: 0.5106 - accuracy: 0.8462 - val_loss: 0.8070 - val_accuracy: 0.7675\n",
            "Epoch 10/50\n",
            "1313/1313 [==============================] - 21s 16ms/step - loss: 0.5021 - accuracy: 0.8457 - val_loss: 0.7499 - val_accuracy: 0.7848\n",
            "Epoch 11/50\n",
            "1313/1313 [==============================] - 21s 16ms/step - loss: 0.4912 - accuracy: 0.8477 - val_loss: 0.7884 - val_accuracy: 0.7674\n",
            "Epoch 12/50\n",
            "1313/1313 [==============================] - 21s 16ms/step - loss: 0.4875 - accuracy: 0.8508 - val_loss: 0.7968 - val_accuracy: 0.7699\n",
            "Epoch 13/50\n",
            "1313/1313 [==============================] - 21s 16ms/step - loss: 0.4853 - accuracy: 0.8501 - val_loss: 0.6622 - val_accuracy: 0.8067\n",
            "Epoch 14/50\n",
            "1313/1313 [==============================] - 21s 16ms/step - loss: 0.4794 - accuracy: 0.8511 - val_loss: 0.7014 - val_accuracy: 0.7939\n",
            "Epoch 15/50\n",
            "1313/1313 [==============================] - 21s 16ms/step - loss: 0.4679 - accuracy: 0.8543 - val_loss: 0.7595 - val_accuracy: 0.7807\n",
            "Epoch 16/50\n",
            "1313/1313 [==============================] - 21s 16ms/step - loss: 0.4648 - accuracy: 0.8547 - val_loss: 0.7716 - val_accuracy: 0.7752\n",
            "Epoch 17/50\n",
            "1313/1313 [==============================] - 21s 16ms/step - loss: 0.4575 - accuracy: 0.8574 - val_loss: 0.7048 - val_accuracy: 0.7973\n",
            "Epoch 18/50\n",
            "1313/1313 [==============================] - 21s 16ms/step - loss: 0.4591 - accuracy: 0.8574 - val_loss: 0.7507 - val_accuracy: 0.7846\n",
            "Epoch 19/50\n",
            "1313/1313 [==============================] - 21s 16ms/step - loss: 0.4533 - accuracy: 0.8600 - val_loss: 0.7766 - val_accuracy: 0.7767\n",
            "Epoch 20/50\n",
            "1313/1313 [==============================] - 21s 16ms/step - loss: 0.4606 - accuracy: 0.8571 - val_loss: 0.7575 - val_accuracy: 0.7864\n",
            "Epoch 21/50\n",
            "1313/1313 [==============================] - 21s 16ms/step - loss: 0.4600 - accuracy: 0.8558 - val_loss: 0.6440 - val_accuracy: 0.8123\n",
            "Epoch 22/50\n",
            "1313/1313 [==============================] - 21s 16ms/step - loss: 0.4418 - accuracy: 0.8628 - val_loss: 0.6894 - val_accuracy: 0.7992\n",
            "Epoch 23/50\n",
            "1313/1313 [==============================] - 21s 16ms/step - loss: 0.4407 - accuracy: 0.8620 - val_loss: 0.7842 - val_accuracy: 0.7714\n",
            "Epoch 24/50\n",
            "1313/1313 [==============================] - 21s 16ms/step - loss: 0.4412 - accuracy: 0.8609 - val_loss: 0.6338 - val_accuracy: 0.8210\n",
            "Epoch 25/50\n",
            "1313/1313 [==============================] - 21s 16ms/step - loss: 0.4365 - accuracy: 0.8635 - val_loss: 0.7469 - val_accuracy: 0.7873\n",
            "Epoch 26/50\n",
            "1313/1313 [==============================] - 21s 16ms/step - loss: 0.4249 - accuracy: 0.8658 - val_loss: 0.8693 - val_accuracy: 0.7552\n",
            "Epoch 27/50\n",
            "1313/1313 [==============================] - 21s 16ms/step - loss: 0.4440 - accuracy: 0.8615 - val_loss: 0.6413 - val_accuracy: 0.8188\n",
            "Epoch 28/50\n",
            "1313/1313 [==============================] - 21s 16ms/step - loss: 0.4221 - accuracy: 0.8692 - val_loss: 0.6229 - val_accuracy: 0.8209\n",
            "Epoch 29/50\n",
            "1313/1313 [==============================] - 21s 16ms/step - loss: 0.4189 - accuracy: 0.8699 - val_loss: 0.8218 - val_accuracy: 0.7751\n",
            "Epoch 30/50\n",
            "1313/1313 [==============================] - 21s 16ms/step - loss: 0.4212 - accuracy: 0.8682 - val_loss: 0.6829 - val_accuracy: 0.8080\n",
            "Epoch 31/50\n",
            "1313/1313 [==============================] - 21s 16ms/step - loss: 0.4160 - accuracy: 0.8718 - val_loss: 0.7210 - val_accuracy: 0.7959\n",
            "Epoch 32/50\n",
            "1313/1313 [==============================] - 21s 16ms/step - loss: 0.4141 - accuracy: 0.8716 - val_loss: 0.6662 - val_accuracy: 0.8105\n",
            "Epoch 33/50\n",
            "1313/1313 [==============================] - 21s 16ms/step - loss: 0.4386 - accuracy: 0.8641 - val_loss: 0.7253 - val_accuracy: 0.7890\n",
            "Epoch 34/50\n",
            "1313/1313 [==============================] - 21s 16ms/step - loss: 0.4061 - accuracy: 0.8731 - val_loss: 0.7748 - val_accuracy: 0.7797\n",
            "Epoch 35/50\n",
            "1313/1313 [==============================] - 25s 19ms/step - loss: 0.3968 - accuracy: 0.8760 - val_loss: 0.7249 - val_accuracy: 0.8002\n",
            "Epoch 36/50\n",
            "1313/1313 [==============================] - 21s 16ms/step - loss: 0.4043 - accuracy: 0.8733 - val_loss: 0.8116 - val_accuracy: 0.7652\n",
            "Epoch 37/50\n",
            "1313/1313 [==============================] - 21s 16ms/step - loss: 0.3938 - accuracy: 0.8770 - val_loss: 0.6357 - val_accuracy: 0.8169\n",
            "Epoch 38/50\n",
            "1313/1313 [==============================] - 22s 17ms/step - loss: 0.3972 - accuracy: 0.8751 - val_loss: 0.6995 - val_accuracy: 0.8045\n",
            "Epoch 39/50\n",
            "1313/1313 [==============================] - 22s 17ms/step - loss: 0.3948 - accuracy: 0.8745 - val_loss: 0.8241 - val_accuracy: 0.7643\n",
            "Epoch 40/50\n",
            "1313/1313 [==============================] - 21s 16ms/step - loss: 0.3928 - accuracy: 0.8751 - val_loss: 0.7627 - val_accuracy: 0.7864\n",
            "Epoch 41/50\n",
            "1313/1313 [==============================] - 21s 16ms/step - loss: 0.3927 - accuracy: 0.8765 - val_loss: 0.6207 - val_accuracy: 0.8210\n",
            "Epoch 42/50\n",
            "1313/1313 [==============================] - 21s 16ms/step - loss: 0.3976 - accuracy: 0.8752 - val_loss: 0.6868 - val_accuracy: 0.8075\n",
            "Epoch 43/50\n",
            "1313/1313 [==============================] - 21s 16ms/step - loss: 0.3804 - accuracy: 0.8792 - val_loss: 0.7173 - val_accuracy: 0.7961\n",
            "Epoch 44/50\n",
            "1313/1313 [==============================] - 22s 17ms/step - loss: 0.3883 - accuracy: 0.8785 - val_loss: 0.7035 - val_accuracy: 0.8041\n",
            "Epoch 45/50\n",
            "1313/1313 [==============================] - 22s 17ms/step - loss: 0.3780 - accuracy: 0.8808 - val_loss: 0.8572 - val_accuracy: 0.7573\n",
            "Epoch 46/50\n",
            "1313/1313 [==============================] - 22s 17ms/step - loss: 0.3867 - accuracy: 0.8778 - val_loss: 0.7060 - val_accuracy: 0.7972\n",
            "Epoch 47/50\n",
            "1313/1313 [==============================] - 22s 17ms/step - loss: 0.3814 - accuracy: 0.8789 - val_loss: 0.6848 - val_accuracy: 0.8094\n",
            "Epoch 48/50\n",
            "1313/1313 [==============================] - 22s 17ms/step - loss: 0.3805 - accuracy: 0.8795 - val_loss: 0.6927 - val_accuracy: 0.8039\n",
            "Epoch 49/50\n",
            "1313/1313 [==============================] - 22s 17ms/step - loss: 0.3814 - accuracy: 0.8791 - val_loss: 0.6635 - val_accuracy: 0.8144\n",
            "Epoch 50/50\n",
            "1313/1313 [==============================] - 22s 17ms/step - loss: 0.3713 - accuracy: 0.8815 - val_loss: 0.7284 - val_accuracy: 0.7982\n"
          ],
          "name": "stdout"
        },
        {
          "output_type": "display_data",
          "data": {
            "image/png": "[encoded data removed]",
            "text/plain": [
              "<Figure size 432x288 with 1 Axes>"
            ]
          },
          "metadata": {
            "tags": []
          }
        },
        {
          "output_type": "display_data",
          "data": {
            "image/png": "[encoded data removed]",
            "text/plain": [
              "<Figure size 432x288 with 1 Axes>"
            ]
          },
          "metadata": {
            "tags": []
          }
        }
      ]
    },
    {
      "cell_type": "code",
      "metadata": {
        "id": "A_E-i4B9wqlI",
        "colab_type": "code",
        "colab": {
          "base_uri": "https://localhost:8080/",
          "height": 34
        },
        "outputId": "848f5aef-960f-46c7-a62a-8e64a538b585"
      },
      "source": [
        "y_pred = model.predict_classes(X_test)\n",
        "y_pred"
      ],
      "execution_count": 119,
      "outputs": [
        {
          "output_type": "execute_result",
          "data": {
            "text/plain": [
              "array([0, 7, 2, ..., 7, 8, 2])"
            ]
          },
          "metadata": {
            "tags": []
          },
          "execution_count": 119
        }
      ]
    },
    {
      "cell_type": "code",
      "metadata": {
        "id": "g-KeOHosVsAA",
        "colab_type": "code",
        "colab": {}
      },
      "source": [
        ""
      ],
      "execution_count": 0,
      "outputs": []
    },
    {
      "cell_type": "code",
      "metadata": {
        "id": "OyrwayTtx6ZT",
        "colab_type": "code",
        "colab": {
          "base_uri": "https://localhost:8080/",
          "height": 185
        },
        "outputId": "518990b2-6ef5-4de5-88cc-905c1f66ed44"
      },
      "source": [
        "from sklearn.metrics import confusion_matrix,accuracy_score\n",
        "confusion_matrix(y_test,y_pred)"
      ],
      "execution_count": 128,
      "outputs": [
        {
          "output_type": "execute_result",
          "data": {
            "text/plain": [
              "array([[1588,   21,   23,   13,   16,    4,   46,   11,   44,   48],\n",
              "       [  56, 1425,   43,   40,   75,   25,   27,   53,   37,   47],\n",
              "       [  33,   25, 1481,   27,   26,   19,   18,   77,   41,   56],\n",
              "       [  37,   22,   58, 1253,   25,  149,   37,   20,   79,   39],\n",
              "       [  37,   51,   39,   18, 1499,   14,   67,   12,   38,   37],\n",
              "       [  28,   15,   20,  113,   16, 1363,  119,    4,   44,   46],\n",
              "       [  35,   21,   18,   19,   29,   60, 1540,    9,   87,   14],\n",
              "       [  39,   49,   73,   27,   16,    9,   32, 1491,   24,   48],\n",
              "       [  41,   29,   30,   26,   21,   39,  260,    4, 1319,   43],\n",
              "       [  83,   33,   42,   23,   22,   55,   40,   19,   79, 1408]])"
            ]
          },
          "metadata": {
            "tags": []
          },
          "execution_count": 128
        }
      ]
    },
    {
      "cell_type": "code",
      "metadata": {
        "id": "1xJ4qin_zFIQ",
        "colab_type": "code",
        "colab": {
          "base_uri": "https://localhost:8080/",
          "height": 34
        },
        "outputId": "98e8729b-57d8-4f49-a5a7-7504b21f93bf"
      },
      "source": [
        "accuracy_score(y_pred,y_test)"
      ],
      "execution_count": 130,
      "outputs": [
        {
          "output_type": "execute_result",
          "data": {
            "text/plain": [
              "0.7981666666666667"
            ]
          },
          "metadata": {
            "tags": []
          },
          "execution_count": 130
        }
      ]
    },
    {
      "cell_type": "code",
      "metadata": {
        "id": "7XI9Hh3Lzo50",
        "colab_type": "code",
        "colab": {}
      },
      "source": [
        ""
      ],
      "execution_count": 0,
      "outputs": []
    }
  ]
}