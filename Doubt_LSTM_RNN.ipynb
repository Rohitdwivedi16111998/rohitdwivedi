{
  "nbformat": 4,
  "nbformat_minor": 0,
  "metadata": {
    "colab": {
      "name": "Doubt_LSTM_RNN.ipynb",
      "provenance": [],
      "authorship_tag": "ABX9TyMbeefFCQEzUISpCzsy6MTK",
      "include_colab_link": true
    },
    "kernelspec": {
      "name": "python3",
      "display_name": "Python 3"
    },
    "accelerator": "GPU"
  },
  "cells": [
    {
      "cell_type": "markdown",
      "metadata": {
        "id": "view-in-github",
        "colab_type": "text"
      },
      "source": [
        "<a href=\"https://colab.research.google.com/github/Rohitdwivedi16111998/rohitdwivedi/blob/master/Doubt_LSTM_RNN.ipynb\" target=\"_parent\"><img src=\"https://colab.research.google.com/assets/colab-badge.svg\" alt=\"Open In Colab\"/></a>"
      ]
    },
    {
      "cell_type": "code",
      "metadata": {
        "id": "ZCi4Mx21I8Fn",
        "colab_type": "code",
        "colab": {}
      },
      "source": [
        "import numpy as np\n",
        "import pandas as pd\n",
        "\n",
        "from sklearn.feature_extraction.text import CountVectorizer\n",
        "from keras.preprocessing.text import Tokenizer\n",
        "from keras.preprocessing.sequence import pad_sequences\n",
        "from keras.models import Sequential\n",
        "from keras.layers import Dense, Embedding, LSTM, SpatialDropout1D\n",
        "from sklearn.model_selection import train_test_split\n",
        "from keras.utils.np_utils import to_categorical\n",
        "import re"
      ],
      "execution_count": null,
      "outputs": []
    },
    {
      "cell_type": "code",
      "metadata": {
        "id": "f-CD1qRLKZTe",
        "colab_type": "code",
        "colab": {}
      },
      "source": [
        "data = pd.read_csv('train.csv')"
      ],
      "execution_count": null,
      "outputs": []
    },
    {
      "cell_type": "code",
      "metadata": {
        "id": "5Yfegu7vPSJz",
        "colab_type": "code",
        "colab": {}
      },
      "source": [
        "data = data.sample(10000)"
      ],
      "execution_count": null,
      "outputs": []
    },
    {
      "cell_type": "code",
      "metadata": {
        "id": "n-VhX9UfKdf1",
        "colab_type": "code",
        "colab": {
          "base_uri": "https://localhost:8080/",
          "height": 399
        },
        "outputId": "8c2cb7bb-dc1d-489f-e9cb-726156d4d9ab"
      },
      "source": [
        "data"
      ],
      "execution_count": null,
      "outputs": [
        {
          "output_type": "execute_result",
          "data": {
            "text/html": [
              "<div>\n",
              "<style scoped>\n",
              "    .dataframe tbody tr th:only-of-type {\n",
              "        vertical-align: middle;\n",
              "    }\n",
              "\n",
              "    .dataframe tbody tr th {\n",
              "        vertical-align: top;\n",
              "    }\n",
              "\n",
              "    .dataframe thead th {\n",
              "        text-align: right;\n",
              "    }\n",
              "</style>\n",
              "<table border=\"1\" class=\"dataframe\">\n",
              "  <thead>\n",
              "    <tr style=\"text-align: right;\">\n",
              "      <th></th>\n",
              "      <th>textID</th>\n",
              "      <th>text</th>\n",
              "      <th>sentiment</th>\n",
              "    </tr>\n",
              "  </thead>\n",
              "  <tbody>\n",
              "    <tr>\n",
              "      <th>25865</th>\n",
              "      <td>c481433b33</td>\n",
              "      <td>hm... i don`t I can recommend any white choco...</td>\n",
              "      <td>neutral</td>\n",
              "    </tr>\n",
              "    <tr>\n",
              "      <th>15046</th>\n",
              "      <td>cbb03b61b1</td>\n",
              "      <td>_ more than youl ever no ! !! ! !!   ****</td>\n",
              "      <td>neutral</td>\n",
              "    </tr>\n",
              "    <tr>\n",
              "      <th>7423</th>\n",
              "      <td>e88799de88</td>\n",
              "      <td>Good morning World   This will be another wond...</td>\n",
              "      <td>positive</td>\n",
              "    </tr>\n",
              "    <tr>\n",
              "      <th>22067</th>\n",
              "      <td>831327dbe1</td>\n",
              "      <td>I like the idea of eliminating bludgers and b...</td>\n",
              "      <td>negative</td>\n",
              "    </tr>\n",
              "    <tr>\n",
              "      <th>22580</th>\n",
              "      <td>c6f9fa9cf5</td>\n",
              "      <td>_Holden I must admit though, part of me didn`t...</td>\n",
              "      <td>neutral</td>\n",
              "    </tr>\n",
              "    <tr>\n",
              "      <th>...</th>\n",
              "      <td>...</td>\n",
              "      <td>...</td>\n",
              "      <td>...</td>\n",
              "    </tr>\n",
              "    <tr>\n",
              "      <th>18252</th>\n",
              "      <td>daa811318a</td>\n",
              "      <td>On my way home n having 2 deal w underage girl...</td>\n",
              "      <td>negative</td>\n",
              "    </tr>\n",
              "    <tr>\n",
              "      <th>15705</th>\n",
              "      <td>c6e226f30f</td>\n",
              "      <td>Oh LOL! Yes, on Facebook! That`s a nice safe ...</td>\n",
              "      <td>positive</td>\n",
              "    </tr>\n",
              "    <tr>\n",
              "      <th>22452</th>\n",
              "      <td>e999df98cc</td>\n",
              "      <td>They should add Dunkin Donuts to their menu too.</td>\n",
              "      <td>neutral</td>\n",
              "    </tr>\n",
              "    <tr>\n",
              "      <th>4218</th>\n",
              "      <td>8ca80c377c</td>\n",
              "      <td>good morning! off to the gym I go</td>\n",
              "      <td>positive</td>\n",
              "    </tr>\n",
              "    <tr>\n",
              "      <th>3963</th>\n",
              "      <td>dffc3ecfa1</td>\n",
              "      <td>so after church, i went to the mall with my pa...</td>\n",
              "      <td>positive</td>\n",
              "    </tr>\n",
              "  </tbody>\n",
              "</table>\n",
              "<p>10000 rows × 3 columns</p>\n",
              "</div>"
            ],
            "text/plain": [
              "           textID                                               text sentiment\n",
              "25865  c481433b33   hm... i don`t I can recommend any white choco...   neutral\n",
              "15046  cbb03b61b1          _ more than youl ever no ! !! ! !!   ****   neutral\n",
              "7423   e88799de88  Good morning World   This will be another wond...  positive\n",
              "22067  831327dbe1   I like the idea of eliminating bludgers and b...  negative\n",
              "22580  c6f9fa9cf5  _Holden I must admit though, part of me didn`t...   neutral\n",
              "...           ...                                                ...       ...\n",
              "18252  daa811318a  On my way home n having 2 deal w underage girl...  negative\n",
              "15705  c6e226f30f   Oh LOL! Yes, on Facebook! That`s a nice safe ...  positive\n",
              "22452  e999df98cc   They should add Dunkin Donuts to their menu too.   neutral\n",
              "4218   8ca80c377c                  good morning! off to the gym I go  positive\n",
              "3963   dffc3ecfa1  so after church, i went to the mall with my pa...  positive\n",
              "\n",
              "[10000 rows x 3 columns]"
            ]
          },
          "metadata": {
            "tags": []
          },
          "execution_count": 16
        }
      ]
    },
    {
      "cell_type": "code",
      "metadata": {
        "id": "u0N-e2cENm6O",
        "colab_type": "code",
        "colab": {}
      },
      "source": [
        "data['text'] = data['text'].str.lower()\n",
        "data['text']=data['text'].apply(lambda x: re.sub(r'[^a-zA-z0-9\\s]','', str(x)))"
      ],
      "execution_count": null,
      "outputs": []
    },
    {
      "cell_type": "code",
      "metadata": {
        "id": "9f7RKZ0lM-fF",
        "colab_type": "code",
        "colab": {
          "base_uri": "https://localhost:8080/",
          "height": 70
        },
        "outputId": "fdcca2ec-37b0-4763-aff2-5caae01f7bf1"
      },
      "source": [
        "print(data[ data['sentiment'] == 'positive'].size)\n",
        "print(data[ data['sentiment'] == 'negative'].size)\n",
        "print(data[ data['sentiment'] == 'neutral'].size)"
      ],
      "execution_count": null,
      "outputs": [
        {
          "output_type": "stream",
          "text": [
            "9402\n",
            "8529\n",
            "12069\n"
          ],
          "name": "stdout"
        }
      ]
    },
    {
      "cell_type": "code",
      "metadata": {
        "id": "BjFxMaP1RlVv",
        "colab_type": "code",
        "colab": {}
      },
      "source": [
        "vocabSize = 2000\n",
        "tokenizer = Tokenizer(num_words=vocabSize, split=' ')\n",
        "tokenizer.fit_on_texts(data['text'].values)\n",
        "X = tokenizer.texts_to_sequences(data['text'].values)\n",
        "X = pad_sequences(X)"
      ],
      "execution_count": null,
      "outputs": []
    },
    {
      "cell_type": "code",
      "metadata": {
        "id": "exxpKlqQNMX2",
        "colab_type": "code",
        "colab": {}
      },
      "source": [
        "embed_dim = 128\n",
        "lstm_out = 196"
      ],
      "execution_count": null,
      "outputs": []
    },
    {
      "cell_type": "code",
      "metadata": {
        "id": "iPaUJscVN_K0",
        "colab_type": "code",
        "colab": {
          "base_uri": "https://localhost:8080/",
          "height": 357
        },
        "outputId": "7e9f77fd-19a1-4253-e8a5-a940ab81ad80"
      },
      "source": [
        "model = Sequential()\n",
        "model.add(Embedding(vocabSize, embed_dim,input_length = X.shape[1]))\n",
        "model.add(SpatialDropout1D(0.4))\n",
        "model.add(LSTM(lstm_out, dropout=0.2, recurrent_dropout=0.2))\n",
        "model.add(Dense(3,activation='softmax'))\n",
        "model.compile(loss = 'categorical_crossentropy', optimizer='adam',metrics = ['accuracy'])\n",
        "print(model.summary())"
      ],
      "execution_count": null,
      "outputs": [
        {
          "output_type": "stream",
          "text": [
            "WARNING:tensorflow:Layer lstm_1 will not use cuDNN kernel since it doesn't meet the cuDNN kernel criteria. It will use generic GPU kernel as fallback when running on GPU\n",
            "Model: \"sequential_1\"\n",
            "_________________________________________________________________\n",
            "Layer (type)                 Output Shape              Param #   \n",
            "=================================================================\n",
            "embedding_1 (Embedding)      (None, 32, 128)           256000    \n",
            "_________________________________________________________________\n",
            "spatial_dropout1d_1 (Spatial (None, 32, 128)           0         \n",
            "_________________________________________________________________\n",
            "lstm_1 (LSTM)                (None, 196)               254800    \n",
            "_________________________________________________________________\n",
            "dense_1 (Dense)              (None, 3)                 591       \n",
            "=================================================================\n",
            "Total params: 511,391\n",
            "Trainable params: 511,391\n",
            "Non-trainable params: 0\n",
            "_________________________________________________________________\n",
            "None\n"
          ],
          "name": "stdout"
        }
      ]
    },
    {
      "cell_type": "code",
      "metadata": {
        "id": "0M4TlXWXOCZa",
        "colab_type": "code",
        "colab": {
          "base_uri": "https://localhost:8080/",
          "height": 52
        },
        "outputId": "531993b0-1c77-4cb2-f7cb-aafdad9f8169"
      },
      "source": [
        "Y = pd.get_dummies(data['sentiment']).values\n",
        "X_train, X_test, Y_train, Y_test = train_test_split(X,Y, test_size = 0.33, random_state = 42)\n",
        "print(X_train.shape,Y_train.shape)\n",
        "print(X_test.shape,Y_test.shape)"
      ],
      "execution_count": null,
      "outputs": [
        {
          "output_type": "stream",
          "text": [
            "(6700, 32) (6700, 3)\n",
            "(3300, 32) (3300, 3)\n"
          ],
          "name": "stdout"
        }
      ]
    },
    {
      "cell_type": "code",
      "metadata": {
        "id": "Z7Wmyza2OLwo",
        "colab_type": "code",
        "colab": {
          "base_uri": "https://localhost:8080/",
          "height": 390
        },
        "outputId": "f97d0550-bd71-4102-d4bc-d3b0825ea0c5"
      },
      "source": [
        "batch_size = 32\n",
        "model.fit(X_train, Y_train, epochs = 10, batch_size=batch_size, verbose = 2)"
      ],
      "execution_count": null,
      "outputs": [
        {
          "output_type": "stream",
          "text": [
            "Epoch 1/10\n",
            "210/210 - 34s - loss: 0.9909 - accuracy: 0.4964\n",
            "Epoch 2/10\n",
            "210/210 - 34s - loss: 0.7549 - accuracy: 0.6727\n",
            "Epoch 3/10\n",
            "210/210 - 34s - loss: 0.6446 - accuracy: 0.7290\n",
            "Epoch 4/10\n",
            "210/210 - 34s - loss: 0.5867 - accuracy: 0.7646\n",
            "Epoch 5/10\n",
            "210/210 - 34s - loss: 0.5337 - accuracy: 0.7849\n",
            "Epoch 6/10\n",
            "210/210 - 34s - loss: 0.4968 - accuracy: 0.8049\n",
            "Epoch 7/10\n",
            "210/210 - 34s - loss: 0.4548 - accuracy: 0.8227\n",
            "Epoch 8/10\n",
            "210/210 - 34s - loss: 0.4145 - accuracy: 0.8367\n",
            "Epoch 9/10\n",
            "210/210 - 34s - loss: 0.3745 - accuracy: 0.8572\n",
            "Epoch 10/10\n",
            "210/210 - 34s - loss: 0.3449 - accuracy: 0.8681\n"
          ],
          "name": "stdout"
        },
        {
          "output_type": "execute_result",
          "data": {
            "text/plain": [
              "<tensorflow.python.keras.callbacks.History at 0x7f8acb4b9a90>"
            ]
          },
          "metadata": {
            "tags": []
          },
          "execution_count": 23
        }
      ]
    },
    {
      "cell_type": "code",
      "metadata": {
        "id": "_k4CK1mgOoiQ",
        "colab_type": "code",
        "colab": {}
      },
      "source": [
        ""
      ],
      "execution_count": null,
      "outputs": []
    }
  ]
}